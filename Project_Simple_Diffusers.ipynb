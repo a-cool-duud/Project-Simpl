{
  "cells": [
    {
      "cell_type": "markdown",
      "metadata": {
        "id": "RlNi0vVSljsk"
      },
      "source": [
        "# Welcome to the most customisable Stable Diffusion on the Cloud!\n",
        "### Project SimplEC Diffusers.\n",
        "Using Google Collabs with GPU.\n"
      ]
    },
    {
      "cell_type": "markdown",
      "metadata": {
        "id": "IorKaT0Q5Tfh"
      },
      "source": [
        "Hello & welcome to google collabs diffusion ai model on the cloud, if you're on a free account, you may be denied access to GPU's randomly.\n",
        "## Dont panic!\n",
        "They'll be availiable in the next 24 hours, you can easilly use Alt accounts & maybe just touch grass once in a while to solve this, maybe even just pay Google to get more Powerful GPU's & more time to make images faster!\n",
        "\n",
        "Yes, this requires a GPU to work, so if you have a NVIDIA GPU, feel free to this directly on your PC, ofc at your own risk theres no tutorial here lol & i dont really care what happenes on your computer."
      ]
    },
    {
      "cell_type": "markdown",
      "metadata": {
        "id": "s0iEv3HdnMGi"
      },
      "source": [
        "# Notes for installation:\n",
        "diffusion_model : This tells the command what model you want to use, check huggingface & pick your model if its compatible with this,i have 2 recommended options already for you if you want to pick those, stable-diffusion-2 is like the stock diffuser, best for general stuff & anything-v4.0 is an anime diffuser, best for well, anime stuff.\n",
        "\n",
        "diffusion_model_for_images: this is the diffusion model for text guided image to image\n",
        "\n",
        "##### NOTE: NOT MANY MODELS WORK PROPERLY WITH IMAGES IN THIS PROGRAM PROPERLY. SOME MAY NOT WORK."
      ]
    },
    {
      "cell_type": "code",
      "execution_count": null,
      "metadata": {
        "cellView": "form",
        "id": "IFj8CqUwBKOW"
      },
      "outputs": [],
      "source": [
        "#@title Run these to setup text to image after entering your desired installation options\n",
        "diffusion_model = \"andite/anything-v4.0\" #@param [\"stabilityai/stable-diffusion-2\", \"andite/anything-v4.0\"] {allow-input: true}\n",
        "diffusion_model_for_images = \"andite/anything-v4.0\" #@param [\"andite/anything-v4.0\", \"stabilityai/stable-diffusion-2\"] {allow-input: true}\n",
        "\n",
        "!pip install diffusers==0.11.1\n",
        "!pip install transformers scipy ftfy accelerate\n",
        "\n",
        "import torch\n",
        "import requests\n",
        "from PIL import Image\n",
        "from io import BytesIO\n",
        "from diffusers import StableDiffusionPipeline\n",
        "pipe = StableDiffusionPipeline.from_pretrained(diffusion_model, torch_dtype=torch.float16, safety_checker = None).to(\"cuda\")\n",
        "\n",
        "b = \"\"\n",
        "\n",
        "from diffusers import StableDiffusionImg2ImgPipeline\n",
        "pipeimg = StableDiffusionImg2ImgPipeline.from_pretrained(diffusion_model_for_images, torch_dtype=torch.float16, safety_checker = None).to(\"cuda\")\n"
      ]
    },
    {
      "cell_type": "markdown",
      "metadata": {
        "id": "khln-BHlElp_"
      },
      "source": [
        "# Notes for making Images with Text:\n",
        "\n",
        "prompt : Your Description\n",
        "\n",
        "additional_negative_prompt : What you DONT want to see in the picture, quality types have already been put in for you\n",
        "\n",
        "time_taken_in_steps : How many times it goes over it, higher is better but takes more time\n",
        "\n",
        "pictures_to_be_made_and_saved : How many pictures do you want\n",
        "\n",
        "width_pixels & height_pixels : The dimensions of your digital image\n",
        "\n",
        "guidance_to_text : How obidient the AI should be to your desc from 0 - 20\n",
        "\n",
        "numbers_of_images_to_be_made : How many images will be made.\n",
        "\n",
        "file_name : The name you want for the file (which image it is & the file extension will be added on automatically)\n",
        "\n",
        "nsfw_filter : This will try prevent the AI from going too much by using keywords that make the AI not use any nsfw content, NSFW with this on is still possible if you deliberately do it. It's like this to 1. Not give blank images from false positives & 2. To make this simple since I could not turn the safety checker on the pipe on"
      ]
    },
    {
      "cell_type": "code",
      "execution_count": null,
      "metadata": {
        "cellView": "form",
        "id": "hnJzunm3B9Ez"
      },
      "outputs": [],
      "source": [
        "#@title Run Text To Image Here\n",
        "prompt = \"\" #@param {type:\"string\"}\n",
        "additional_negative_prompt = \"\" #@param {type:\"string\"}\n",
        "time_taken_in_steps = 500 #@param {type:\"slider\", min:1, max:500, step:1}\n",
        "width_pixels = 256 #@param {type:\"integer\"}\n",
        "height_pixels = 512 #@param {type:\"integer\"}\n",
        "guidance_to_text = 13 #@param {type:\"integer\"}\n",
        "numbers_of_images_to_be_made = 1 #@param {type:\"integer\"}\n",
        "file_name = \"file\" #@param {type:\"string\"}\n",
        "numbers_of_repeats = 1 #@param {type:\"integer\"}\n",
        "nsfw_filter = \"No Modifications\" #@param [\"No NSFW\", \"No Modifications\", \"Sus Option\"]\n",
        "\n",
        "\n",
        "final_images = []\n",
        "for i in range (0, numbers_of_repeats):\n",
        "  if nsfw_filter == \"No NSFW\":\n",
        "    images = pipe(prompt, negative_prompt = \"NSFW, nsfw, Bad Anatomy, Hentai, Naked, White Yoghurt, Sausages, Tentacles, Penis, Visible Breasts, Visible Vagina, Testicles, extreme blushing, jpeg artifacts, watermark, username, low quality, blurry, oversharpened, ugly, overweight, \"+additional_negative_prompt, height = height_pixels, width = width_pixels, num_inference_steps = time_taken_in_steps, guidance_scale = guidance_to_text, num_images_per_prompt = numbers_of_images_to_be_made).images\n",
        "  elif nsfw_filter == \"No Modifications\":\n",
        "    images = pipe(prompt, negative_prompt = \"Bad Anatomy, jpeg artifacts, watermark, username, low quality, blurry, oversharpened, ugly, overweight, \"+additional_negative_prompt, height = height_pixels, width = width_pixels, num_inference_steps = time_taken_in_steps, guidance_scale = guidance_to_text, num_images_per_prompt = numbers_of_images_to_be_made).images\n",
        "  else: \n",
        "    images = pipe(\"NSFW, nsfw, \"+ prompt, negative_prompt = \"Bad Anatomy, jpeg artifacts, watermark, username, low quality, blurry, oversharpened, ugly, overweight, \"+additional_negative_prompt, height = height_pixels, width = width_pixels, num_inference_steps = time_taken_in_steps, guidance_scale = guidance_to_text, num_images_per_prompt = numbers_of_images_to_be_made).images\n",
        "  final_images.extend(images)\n",
        "\n",
        "\n",
        "for i in range (0, numbers_of_images_to_be_made*numbers_of_repeats):\n",
        "  final_images[i].save(fp=file_name+str(i)+\".png\", format=None)"
      ]
    },
    {
      "cell_type": "markdown",
      "metadata": {
        "id": "fpyyABZGKjcE"
      },
      "source": [
        "# Notes for making Images with Text Guided Image:\n",
        "\n",
        "prompt : Your Description\n",
        "\n",
        "additional_negative_prompt : What you DONT want to see in the picture, quality types have already been put in for you\n",
        "\n",
        "time_taken_in_steps : How many times it goes over it, higher is better but takes more time\n",
        "\n",
        "pictures_to_be_made_and_saved : How many pictures do you want\n",
        "\n",
        "guidance_to_text : How obidient the AI should be to your desc from 0 - 20\n",
        "\n",
        "numbers_of_images_to_be_made : How many images will be made.\n",
        "\n",
        "url : This is for the URL of your image, you need to get the jpg / png / other link of the photo, you can do this by right clicking on a an image and pressing open image in new tab & then copying the url of that new tab.\n",
        "\n",
        "strength: How obidient the AI should be to the image, 1 is ignores image completely, 0 is goes by image completely\n",
        "\n",
        "file_name : The name you want for the file (which image it is & the file extension will be added on automatically)\n",
        "\n",
        "nsfw_filter : This will try prevent the AI from going too much by using keywords that make the AI not use any nsfw content, NSFW with this on is still possible if you deliberately do it. It's like this to 1. Not give blank images from false positives & 2. To make this simple since I could not turn the safety checker on the pipe on"
      ]
    },
    {
      "cell_type": "code",
      "execution_count": null,
      "metadata": {
        "cellView": "form",
        "id": "wHrqmYV-K2CO"
      },
      "outputs": [],
      "source": [
        "#@title Run Text Guided Image To Image Here\n",
        "url = \"\" #@param {type:\"string\"}\n",
        "prompt = \"\" #@param {type:\"string\"}\n",
        "additional_negative_prompt = \"\" #@param {type:\"string\"}\n",
        "time_taken_in_steps = 500 #@param {type:\"slider\", min:1, max:500, step:1}\n",
        "strength = 0.437 #@param {type:\"slider\", min:0, max:1, step:0.001}\n",
        "guidance_to_text = 13 #@param {type:\"number\"}\n",
        "numbers_of_images_to_be_made = 1 #@param {type:\"integer\"}\n",
        "file_name = \"file\" #@param {type:\"string\"}\n",
        "numbers_of_repeats = 1 #@param {type:\"integer\"}\n",
        "nsfw_filter = \"No Modifications\" #@param [\"No NSFW\", \"No Modifications\", \"Sus Option\"]\n",
        "\n",
        "\n",
        "response = requests.get(url)\n",
        "init_image = Image.open(BytesIO(response.content)).convert(\"RGB\")\n",
        "init_image.thumbnail((768, 768))\n",
        "\n",
        "final_images = []\n",
        "for i in range (0, numbers_of_repeats):\n",
        "  if nsfw_filter == \"No NSFW\":\n",
        "    images = pipeimg(image=init_image, prompt=prompt, negative_prompt = \"NSFW, nsfw, Bad Anatomy, Hentai, Naked, White Yoghurt, Sausages, Tentacles, Penis, Visible Breasts, Visible Vagina, Testicles, extreme blushing, jpeg artifacts, watermark, username, low quality, blurry, oversharpened, ugly, overweight, \"+additional_negative_prompt, num_inference_steps = time_taken_in_steps, guidance_scale = guidance_to_text, num_images_per_prompt = numbers_of_images_to_be_made).images\n",
        "  elif nsfw_filter == \"No Modifications\":\n",
        "    images = pipeimg(image=init_image, prompt=prompt, negative_prompt = \"Bad Anatomy, jpeg artifacts, watermark, username, low quality, blurry, oversharpened, ugly, overweight, \"+additional_negative_prompt, num_inference_steps = time_taken_in_steps, guidance_scale = guidance_to_text, strength=strength, num_images_per_prompt = numbers_of_images_to_be_made).images\n",
        "  else: \n",
        "    images = pipeimg(image=init_image, prompt=\"NSFW, nsfw, \"+ prompt, negative_prompt = \"Bad Anatomy, jpeg artifacts, watermark, username, low quality, blurry, oversharpened, ugly, overweight, \"+additional_negative_prompt, num_inference_steps = time_taken_in_steps, guidance_scale = guidance_to_text, strength=strength, num_images_per_prompt = numbers_of_images_to_be_made).images\n",
        "  final_images.extend(images)\n",
        "\n",
        "for i in range (0, numbers_of_images_to_be_made*numbers_of_repeats):\n",
        "  final_images[i].save(fp=file_name+str(i)+\".png\", format=None)"
      ]
    }
  ],
  "metadata": {
    "accelerator": "GPU",
    "colab": {
      "provenance": []
    },
    "gpuClass": "standard",
    "kernelspec": {
      "display_name": "Python 3 (ipykernel)",
      "language": "python",
      "name": "python3"
    },
    "language_info": {
      "codemirror_mode": {
        "name": "ipython",
        "version": 3
      },
      "file_extension": ".py",
      "mimetype": "text/x-python",
      "name": "python",
      "nbconvert_exporter": "python",
      "pygments_lexer": "ipython3",
      "version": "3.9.12"
    },
    "toc": {
      "base_numbering": 1,
      "nav_menu": {},
      "number_sections": true,
      "sideBar": true,
      "skip_h1_title": false,
      "title_cell": "Table of Contents",
      "title_sidebar": "Contents",
      "toc_cell": false,
      "toc_position": {},
      "toc_section_display": true,
      "toc_window_display": false
    }
  },
  "nbformat": 4,
  "nbformat_minor": 0
}