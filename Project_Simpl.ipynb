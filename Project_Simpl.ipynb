{
  "nbformat": 4,
  "nbformat_minor": 0,
  "metadata": {
    "colab": {
      "provenance": [],
      "gpuType": "T4"
    },
    "kernelspec": {
      "name": "python3",
      "display_name": "Python 3"
    },
    "language_info": {
      "name": "python"
    },
    "accelerator": "GPU"
  },
  "cells": [
    {
      "cell_type": "markdown",
      "source": [
        "> # Project Simpl\n",
        "> A Stable Diffusion using Google Collab\n",
        "\n",
        "\n"
      ],
      "metadata": {
        "id": "kOLvT_SPdE64"
      }
    },
    {
      "cell_type": "code",
      "source": [
        "#@title Run this cell to start Setup\n",
        "\n",
        "print(\"\"\"\n",
        "Welcome to Project Simpl\n",
        "------------------------\n",
        "\n",
        "First we will setup your\n",
        " text to image pipeline,\n",
        "  So on huggingface.co,\n",
        "  You can search any \n",
        "  text to image model\n",
        " and then, on the link,\n",
        "   after it sais here    --------->>   https://huggingface.co/\n",
        " that is the model you\n",
        "need to enter,  so copy\n",
        " after that and then \n",
        "    paste it here.\"\"\")\n",
        "\n",
        "text2image_model = input(\"Model:    \")\n",
        "\n",
        "\n",
        "print (\"\"\"\n",
        "Now do the same but for a\n",
        "  text guided image to\n",
        "     image model.\"\"\")\n",
        "\n",
        "\n",
        "image2image_model = input(\"Model:    \")\n",
        "\n",
        "print (\"\"\"\n",
        "     Instaling---\"\"\")\n",
        "\n",
        "# Generic Preperation\n",
        "\n",
        "from google.colab import output\n",
        "\n",
        "import time\n",
        "\n",
        "output.clear()\n",
        "\n",
        "!pip install diffusers transformers ftfy accelerate\n",
        "\n",
        "import torch\n",
        "import requests\n",
        "from PIL import Image\n",
        "from io import BytesIO\n",
        "from diffusers import StableDiffusionImg2ImgPipeline\n",
        "from diffusers import DiffusionPipeline\n",
        "\n",
        "output.clear()\n",
        "\n",
        "\n",
        "# Installing Text To Image Model\n",
        "\n",
        "text2img = DiffusionPipeline.from_pretrained(text2image_model, torch_dtype=torch.float16, safety_checker=None).to(\"cuda\")\n",
        "\n",
        "\n",
        "\n",
        "# Installing Text Guided Image To Image Model\n",
        "\n",
        "img2img = StableDiffusionImg2ImgPipeline.from_pretrained(image2image_model, torch_dtype=torch.float16, safety_checker=None).to(\"cuda\")\n",
        "\n",
        "\n",
        "\n",
        "# After Installation\n",
        "\n",
        "output.clear()\n",
        "\n",
        "print (\"\"\"\n",
        "      Installed!\"\"\")\n",
        "\n",
        "time.sleep(0.8)\n",
        "\n",
        "output.clear()"
      ],
      "metadata": {
        "cellView": "form",
        "id": "HIejGI1cesrs"
      },
      "execution_count": null,
      "outputs": []
    },
    {
      "cell_type": "markdown",
      "source": [
        "---\n",
        "---\n",
        "---\n",
        "---\n",
        "---\n",
        "---\n",
        "---\n",
        "---\n",
        "---\n",
        "---\n",
        "---\n",
        "---\n",
        "---\n",
        "---"
      ],
      "metadata": {
        "id": "1WUvJlNJ-MMp"
      }
    },
    {
      "cell_type": "code",
      "source": [
        "#@title Run Text To Image\n",
        "\n",
        "#Set Up Variables\n",
        "prompt = \"\" #@param {type:\"string\"}\n",
        "negative_prompt = \"\" #@param {type:\"string\"}\n",
        "num_steps = 50 #@param {type:\"slider\", min:0, max:1000, step:1}\n",
        "height = 512 #@param {type:\"integer\"}\n",
        "width = 1024 #@param {type:\"integer\"}\n",
        "guidance_to_text = 13 #@param {type:\"slider\", min:0, max:20, step:0.05}\n",
        "file_name = \"et\" #@param {type:\"string\"}\n",
        "numbers_of_repeats = 3 #@param {type:\"integer\"}\n",
        "negative_prompt = negative_prompt + \", ugly, extra digits, bad anatomy, jpeg artifacts, watermark, text, font, \"\n",
        "\n",
        "\n",
        "#Make Image\n",
        "for i in range (0, numbers_of_repeats):\n",
        "  image = text2img(prompt = prompt, negative_prompt = negative_prompt, num_inference_steps = num_steps, width = width, height = height, guidance_scale = guidance_to_text).images[0]\n",
        "  image.save(fp=file_name+str(i)+\".png\", format=None)\n",
        "  output.clear()\n",
        "  print (\"\"\"Generated Image Saved!\n",
        "  Image you just generated:\"\"\")\n",
        "  display(image)\n",
        "\n",
        "print (\"Done!\")\n",
        "time.sleep(9)\n",
        "output.clear()"
      ],
      "metadata": {
        "cellView": "form",
        "id": "5JGDp3zpnm5g"
      },
      "execution_count": 12,
      "outputs": []
    },
    {
      "cell_type": "markdown",
      "source": [
        "---------------------------------------\n",
        "---------------------------------------\n",
        "---------------------------------------\n",
        "---------------------------------------\n",
        "---------------------------------------\n",
        "---------------------------------------\n",
        "---------------------------------------\n",
        "---------------------------------------\n",
        "---------------------------------------\n"
      ],
      "metadata": {
        "id": "rs_aZfH4xSUn"
      }
    },
    {
      "cell_type": "code",
      "source": [
        "#@title Run Image to Image\n",
        "\n",
        "#Set Up Variables\n",
        "image_url = \"\" #@param {type:\"string\"}\n",
        "prompt = \"\" #@param {type:\"string\"}\n",
        "negative_prompt = \"\" #@param {type:\"string\"}\n",
        "num_steps = 84 #@param {type:\"slider\", min:0, max:1000, step:1}\n",
        "strength_to_image = 0.48 #@param {type:\"slider\", min:0, max:1, step:0.005}\n",
        "guidance_to_text = 13 #@param {type:\"slider\", min:0, max:20, step:0.05}\n",
        "file_name = \"\" #@param {type:\"string\"}\n",
        "numbers_of_repeats = 1 #@param {type:\"integer\"}\n",
        "negative_prompt = negative_prompt + \", ugly, extra digits, bad anatomy, jpeg artifacts, watermark, text, font, \"\n",
        "response = requests.get(image_url)\n",
        "init_image = Image.open(BytesIO(response.content)).convert(\"RGB\")\n",
        "init_image.thumbnail((768, 768))\n",
        "\n",
        "\n",
        "#Make Image\n",
        "for i in range (0, numbers_of_repeats):\n",
        "  image = img2img(prompt = prompt, image = init_image, negative_prompt = negative_prompt, strength = strength_to_image, guidance_scale = guidance_to_text, num_inference_steps = num_steps).images[0]\n",
        "  image.save(fp=file_name+str(i)+\".png\", format=None)\n",
        "  output.clear()\n",
        "  print (\"\"\"Generated Image Saved!\n",
        "  Image you just generated:\"\"\")\n",
        "  display(image)\n",
        "\n",
        "print (\"Done!\")\n",
        "time.sleep(9)\n",
        "output.clear()"
      ],
      "metadata": {
        "cellView": "form",
        "id": "8MtZNebNxaSo"
      },
      "execution_count": 15,
      "outputs": []
    },
    {
      "cell_type": "markdown",
      "source": [
        "># Make sure to breathe air, drink water and eat food\n",
        "\n",
        "\n",
        "\n"
      ],
      "metadata": {
        "id": "wEc-0FGA-Xhf"
      }
    }
  ]
}