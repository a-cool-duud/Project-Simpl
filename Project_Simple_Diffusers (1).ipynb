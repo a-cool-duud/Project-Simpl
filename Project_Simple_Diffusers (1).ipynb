{
  "cells": [
    {
      "cell_type": "markdown",
      "metadata": {
        "id": "RlNi0vVSljsk"
      },
      "source": [
        "# Welcome to the most customisable Stable Diffusion on the Cloud!\n",
        "### Project SimplEC Diffusers.\n",
        "Using Google Collabs with GPU.\n"
      ]
    },
    {
      "cell_type": "markdown",
      "metadata": {
        "id": "IorKaT0Q5Tfh"
      },
      "source": [
        "Hello & welcome to google collabs diffusion ai model on the cloud, if you're on a free account, you may be denied access to GPU's randomly.\n",
        "## Dont panic if you get denied access to GPUS by Google\n",
        "They'll be availiable in the next 24 hours, you can easilly use Alt accounts & maybe just touch grass once in a while to solve this, maybe even just pay Google to get more Powerful GPU's & more time to make images faster!\n",
        "\n",
        "Yes, this requires a GPU to work, so if you have a NVIDIA GPU, feel free to this directly on your PC, ofc at your own risk theres no tutorial here lol & i dont really care what happenes on your computer."
      ]
    },
    {
      "cell_type": "markdown",
      "metadata": {
        "id": "s0iEv3HdnMGi"
      },
      "source": [
        "# Notes for installation:\n",
        "diffusion_model : This tells the command what model you want to use, check huggingface & pick your model if its compatible with this,i have 2 recommended options already for you if you want to pick those, stable-diffusion-2 is like the stock diffuser, best for general stuff & anything-v4.0 is an anime diffuser, best for well, anime stuff.\n",
        "\n",
        "diffusion_model_for_images: this is the diffusion model for text guided image to image\n",
        "\n",
        "##### NOTE: NOT MANY MODELS WORK PROPERLY WITH IMAGES IN THIS PROGRAM PROPERLY. SOME MAY NOT WORK."
      ]
    },
    {
      "cell_type": "code",
      "execution_count": null,
      "metadata": {
        "id": "IFj8CqUwBKOW",
        "cellView": "form"
      },
      "outputs": [],
      "source": [
        "#@title Run these to setup text to image after entering your desired installation options\n",
        "diffusion_model = \"stabilityai/stable-diffusion-2\" #@param [\"stabilityai/stable-diffusion-2\", \"andite/anything-v4.0\"] {allow-input: true}\n",
        "diffusion_model_for_images = \"stabilityai/stable-diffusion-2\" #@param [\"andite/anything-v4.0\", \"stabilityai/stable-diffusion-2\"] {allow-input: true}\n",
        "\n",
        "!pip install diffusers==0.11.1\n",
        "!pip install transformers scipy ftfy accelerate\n",
        "\n",
        "import torch\n",
        "import requests\n",
        "from PIL import Image\n",
        "from io import BytesIO\n",
        "from diffusers import StableDiffusionPipeline\n",
        "pipe = StableDiffusionPipeline.from_pretrained(diffusion_model, torch_dtype=torch.float16, safety_checker = None).to(\"cuda\")\n",
        "\n",
        "b = \"\"\n",
        "\n",
        "from diffusers import StableDiffusionImg2ImgPipeline\n",
        "pipeimg = StableDiffusionImg2ImgPipeline.from_pretrained(diffusion_model_for_images, torch_dtype=torch.float16, safety_checker = None).to(\"cuda\")\n"
      ]
    },
    {
      "cell_type": "markdown",
      "metadata": {
        "id": "khln-BHlElp_"
      },
      "source": [
        "# Notes for making Images for Text to Images:\n",
        "\n",
        "prompt: The stuff you want to see\n",
        "\n",
        "use_deafult_negative_prompt: Do you want to use our deafult negative prompts, theyre best for imaging people\n",
        "\n",
        "additional_negative_prompt: What do you NOT want to see?\n",
        "\n",
        "time_taken_in_steps: How many times will the AI overlay over the image? 500 is the best max, above can / will result in messed up images.\n",
        "\n",
        "width_pixels: How wide do you want your image in pixels?\n",
        "\n",
        "height_pixels: How tall do you want your image in pixels?\n",
        "\n",
        "guidance_to_text: How obidient should the AI be to your text, above 13 can result in low quality photos.\n",
        "\n",
        "file_name: What do you want to name your batch of files?\n",
        "\n",
        "numbers_of_repeats: How many images do you want?\n",
        "\n",
        "nsfw_filter: What kind of content should we make the AI do? This wont work properly if you dont use our deafult negative prompts\n",
        "\n",
        "\n",
        "\n",
        "\n"
      ]
    },
    {
      "cell_type": "code",
      "execution_count": null,
      "metadata": {
        "id": "hnJzunm3B9Ez",
        "cellView": "form"
      },
      "outputs": [],
      "source": [
        "#@title Run Text To Image Here\n",
        "import time\n",
        "prompt = \"\" #@param {type:\"string\"}\n",
        "use_deafult_negative_prompt = \"True\" #@param [\"True\", \"False\"]\n",
        "additional_negative_prompt = \"\" #@param {type:\"string\"}\n",
        "time_taken_in_steps = 6 #@param {type:\"slider\", min:1, max:1000, step:1}\n",
        "width_pixels = 256 #@param {type:\"integer\"}\n",
        "height_pixels = 512 #@param {type:\"integer\"}\n",
        "guidance_to_text = 13 #@param {type:\"integer\"}\n",
        "file_name = \"\" #@param {type:\"string\"}\n",
        "numbers_of_repeats = 1 #@param {type:\"integer\"}\n",
        "nsfw_filter = \"No Modifications\" #@param [\"No NSFW\", \"No Modifications\", \"Sus Option\"]\n",
        "\n",
        "\n",
        "if nsfw_filter == \"No NSFW\":\n",
        "  negative_prompt = \"NSFW, nsfw, Bad Anatomy, Hentai, Naked, White Yoghurt, Sausages, Tentacles, Penis, Visible Breasts, Visible Vagina, Testicles, extreme blushing, jpeg artifacts, watermark, username, low quality, blurry, oversharpened, ugly, overweight, \"+additional_negative_prompt\n",
        "  prompt_prompt = prompt\n",
        "elif nsfw_filter == \"No Modifications\":\n",
        "  negative_prompt = \"Bad Anatomy, jpeg artifacts, watermark, username, low quality, blurry, oversharpened, ugly, overweight, \"+additional_negative_prompt\n",
        "  prompt_prompt = prompt\n",
        "else:\n",
        "  negative_prompt = \"Bad Anatomy, jpeg artifacts, watermark, username, low quality, blurry, oversharpened, ugly, overweight, \"+additional_negative_prompt\n",
        "  prompt_prompt = \"NSFW, nsfw, \"+prompt\n",
        "\n",
        "if use_deafult_negative_prompt == \"True\":\n",
        "  negative_prompt = additional_negative_prompt\n",
        "\n",
        "imagess=[]\n",
        "for i in range(0, numbers_of_repeats):\n",
        "  image = pipe(prompt = prompt_prompt, negative_prompt = negative_prompt, num_inference_steps = time_taken_in_steps, width = width_pixels, height = height_pixels, guidance_scale = guidance_to_text).images[0]\n",
        "  image.save(fp=file_name+str(i)+\".png\", format=None)"
      ]
    },
    {
      "cell_type": "markdown",
      "metadata": {
        "id": "fpyyABZGKjcE"
      },
      "source": [
        "# Notes for making Images with Text Guided Image:\n",
        "\n",
        "url: What image do you want to use from the web? make sure the link ends in a .png or .something and that the site only shows an image, nothing else.\n",
        "\n",
        "prompt: The stuff you want to see\n",
        "\n",
        "use_deafult_negative_prompt: Do you want to use our deafult negative prompts, theyre best for imaging people\n",
        "\n",
        "additional_negative_prompt: What do you NOT want to see?\n",
        "\n",
        "time_taken_in_steps: How many times will the AI overlay over the image? 500 is the best max, above can / will result in messed up images.\n",
        "\n",
        "strength: How much do you want the AI to be obidient to your image, 0 is super similar, 1 is super diffrent. 0.5 is diffrent but similar.\n",
        "\n",
        "guidance_to_text: How obidient should the AI be to your text, above 13 can result in low quality photos.\n",
        "\n",
        "file_name: What do you want to name your batch of files?\n",
        "\n",
        "numbers_of_repeats: How many images do you want?\n",
        "\n",
        "nsfw_filter: What kind of content should we make the AI do? This wont work properly if you dont use our deafult negative prompts"
      ]
    },
    {
      "cell_type": "code",
      "execution_count": null,
      "metadata": {
        "cellView": "form",
        "id": "wHrqmYV-K2CO"
      },
      "outputs": [],
      "source": [
        "#@title Run Text Guided Image To Image Here\n",
        "url = \"\" #@param {type:\"string\"}\n",
        "prompt = \"\" #@param {type:\"string\"}\n",
        "use_deafult_negative_prompt = \"True\" #@param [\"True\", \"False\"]\n",
        "additional_negative_prompt = \"\" #@param {type:\"string\"}\n",
        "time_taken_in_steps = 350 #@param {type:\"slider\", min:1, max:1000, step:1}\n",
        "strength = 0.5 #@param {type:\"slider\", min:0, max:1, step:0.001}\n",
        "guidance_to_text = 13 #@param {type:\"number\"}\n",
        "file_name = \"\" #@param {type:\"string\"}\n",
        "numbers_of_repeats = 1 #@param {type:\"integer\"}\n",
        "nsfw_filter = \"No Modifications\" #@param [\"No NSFW\", \"No Modifications\", \"Sus Option\"]\n",
        "\n",
        "response = requests.get(url)\n",
        "init_image = Image.open(BytesIO(response.content)).convert(\"RGB\")\n",
        "init_image.thumbnail((768, 768))\n",
        "\n",
        "if nsfw_filter == \"No NSFW\":\n",
        "  negative_prompt = \"NSFW, nsfw, Bad Anatomy, Hentai, Naked, White Yoghurt, Sausages, Tentacles, Penis, Visible Breasts, Visible Vagina, Testicles, extreme blushing, jpeg artifacts, watermark, username, low quality, blurry, oversharpened, ugly, overweight, \"+additional_negative_prompt\n",
        "  prompt_prompt = prompt\n",
        "elif nsfw_filter == \"No Modifications\":\n",
        "  negative_prompt = \"Bad Anatomy, jpeg artifacts, watermark, username, low quality, blurry, oversharpened, ugly, overweight, \"+additional_negative_prompt\n",
        "  prompt_prompt = prompt\n",
        "else:\n",
        "  negative_prompt = \"Bad Anatomy, jpeg artifacts, watermark, username, low quality, blurry, oversharpened, ugly, overweight, \"+additional_negative_prompt\n",
        "  prompt_prompt = \"NSFW, nsfw, \"+prompt\n",
        "\n",
        "if use_deafult_negative_prompt == \"True\":\n",
        "  negative_prompt = additional_negative_prompt\n",
        "\n",
        "\n",
        "for i in range(0, numbers_of_repeats):\n",
        "  image = pipeimg(prompt=prompt, image=init_image, negative_prompt=negative_prompt, strength = strength, guidance_scale = guidance_to_text).images[0]\n",
        "  image.save(fp=file_name+str(i)+\".png\", format=None)\n"
      ]
    }
  ],
  "metadata": {
    "accelerator": "GPU",
    "colab": {
      "provenance": []
    },
    "gpuClass": "standard",
    "kernelspec": {
      "display_name": "Python 3 (ipykernel)",
      "language": "python",
      "name": "python3"
    },
    "language_info": {
      "codemirror_mode": {
        "name": "ipython",
        "version": 3
      },
      "file_extension": ".py",
      "mimetype": "text/x-python",
      "name": "python",
      "nbconvert_exporter": "python",
      "pygments_lexer": "ipython3",
      "version": "3.9.12"
    },
    "toc": {
      "base_numbering": 1,
      "nav_menu": {},
      "number_sections": true,
      "sideBar": true,
      "skip_h1_title": false,
      "title_cell": "Table of Contents",
      "title_sidebar": "Contents",
      "toc_cell": false,
      "toc_position": {},
      "toc_section_display": true,
      "toc_window_display": false
    }
  },
  "nbformat": 4,
  "nbformat_minor": 0
}